{
  "nbformat": 4,
  "nbformat_minor": 0,
  "metadata": {
    "colab": {
      "name": "assignment_v0.3.2.ipynb",
      "version": "0.3.2",
      "provenance": [],
      "collapsed_sections": []
    },
    "kernelspec": {
      "name": "python3",
      "display_name": "Python 3"
    },
    "accelerator": "GPU"
  },
  "cells": [
    {
      "cell_type": "code",
      "metadata": {
        "id": "X014FXOWZeS0",
        "colab_type": "code",
        "outputId": "01a5f23d-db46-43c7-9d46-62a0e7482999",
        "colab": {
          "base_uri": "https://localhost:8080/",
          "height": 1000
        }
      },
      "source": [
        "# Get the apples2oranges dataset\n",
        "!wget -N http://mmlab.ie.cuhk.edu.hk/archive/sketchdatabase/CUHK/training_88/Cropped_Images/CUHK_training_cropped_sketches.zip -O sketches.zip\n",
        "!wget -N http://mmlab.ie.cuhk.edu.hk/archive/sketchdatabase/CUHK/training_88/Cropped_Images/CUHK_training_cropped_photos.zip -O photos.zip\n",
        "!unzip sketches.zip\n",
        "!unzip photos.zip"
      ],
      "execution_count": 0,
      "outputs": [
        {
          "output_type": "stream",
          "text": [
            "WARNING: timestamping does nothing in combination with -O. See the manual\n",
            "for details.\n",
            "\n",
            "--2019-08-02 13:52:18--  http://mmlab.ie.cuhk.edu.hk/archive/sketchdatabase/CUHK/training_88/Cropped_Images/CUHK_training_cropped_sketches.zip\n",
            "Resolving mmlab.ie.cuhk.edu.hk (mmlab.ie.cuhk.edu.hk)... 137.189.99.12\n",
            "Connecting to mmlab.ie.cuhk.edu.hk (mmlab.ie.cuhk.edu.hk)|137.189.99.12|:80... connected.\n",
            "HTTP request sent, awaiting response... 200 OK\n",
            "Length: 708043 (691K) [application/zip]\n",
            "Saving to: ‘sketches.zip’\n",
            "\n",
            "\rsketches.zip          0%[                    ]       0  --.-KB/s               \rsketches.zip        100%[===================>] 691.45K  --.-KB/s    in 0.09s   \n",
            "\n",
            "2019-08-02 13:52:18 (7.76 MB/s) - ‘sketches.zip’ saved [708043/708043]\n",
            "\n",
            "WARNING: timestamping does nothing in combination with -O. See the manual\n",
            "for details.\n",
            "\n",
            "--2019-08-02 13:52:22--  http://mmlab.ie.cuhk.edu.hk/archive/sketchdatabase/CUHK/training_88/Cropped_Images/CUHK_training_cropped_photos.zip\n",
            "Resolving mmlab.ie.cuhk.edu.hk (mmlab.ie.cuhk.edu.hk)... 137.189.99.12\n",
            "Connecting to mmlab.ie.cuhk.edu.hk (mmlab.ie.cuhk.edu.hk)|137.189.99.12|:80... connected.\n",
            "HTTP request sent, awaiting response... 200 OK\n",
            "Length: 683334 (667K) [application/zip]\n",
            "Saving to: ‘photos.zip’\n",
            "\n",
            "photos.zip          100%[===================>] 667.32K  --.-KB/s    in 0.07s   \n",
            "\n",
            "2019-08-02 13:52:22 (9.10 MB/s) - ‘photos.zip’ saved [683334/683334]\n",
            "\n",
            "Archive:  sketches.zip\n",
            "  inflating: sketches/F2-005-01-sz1.jpg  \n",
            " extracting: sketches/F2-006-01-sz1.jpg  \n",
            " extracting: sketches/F2-007-01-sz1.jpg  \n",
            " extracting: sketches/F2-008-01-sz1.jpg  \n",
            " extracting: sketches/F2-009-01-sz1.jpg  \n",
            " extracting: sketches/F2-010-01-sz1.jpg  \n",
            "  inflating: sketches/F2-011-01-sz1.jpg  \n",
            "  inflating: sketches/F2-012-01-sz1.jpg  \n",
            " extracting: sketches/F2-013-01-sz1.jpg  \n",
            " extracting: sketches/F2-014-01-sz1.jpg  \n",
            " extracting: sketches/F2-015-01-sz1.jpg  \n",
            "  inflating: sketches/F2-016-01-sz1.jpg  \n",
            "  inflating: sketches/F2-017-01-sz1.jpg  \n",
            " extracting: sketches/F2-018-01-sz1.jpg  \n",
            "  inflating: sketches/F2-019-01-sz1.jpg  \n",
            " extracting: sketches/F2-020-01-sz1.jpg  \n",
            "  inflating: sketches/F2-021-01-sz1.jpg  \n",
            "  inflating: sketches/F2-022-01-sz1.jpg  \n",
            "  inflating: sketches/F2-023-01-sz1.jpg  \n",
            " extracting: sketches/F2-024-01-sz1.jpg  \n",
            " extracting: sketches/F2-025-01-sz1.jpg  \n",
            "  inflating: sketches/F2-026-01-sz1.jpg  \n",
            " extracting: sketches/F2-027-01-sz1.jpg  \n",
            "  inflating: sketches/F2-028-01-sz1.jpg  \n",
            " extracting: sketches/F2-029-01-sz1.jpg  \n",
            "  inflating: sketches/F2-030-01-sz1.jpg  \n",
            " extracting: sketches/F2-031-01-sz1.jpg  \n",
            " extracting: sketches/F2-032-01-sz1.jpg  \n",
            " extracting: sketches/F2-033-01-sz1.jpg  \n",
            " extracting: sketches/F2-034-01-sz1.jpg  \n",
            " extracting: sketches/F2-035-01-sz1.jpg  \n",
            " extracting: sketches/F2-036-01-sz1.jpg  \n",
            " extracting: sketches/F2-037-01-sz1.jpg  \n",
            " extracting: sketches/F2-038-01-sz1.jpg  \n",
            "  inflating: sketches/M2-008-01-sz1.jpg  \n",
            " extracting: sketches/M2-009-01-sz1.jpg  \n",
            " extracting: sketches/M2-010-01-sz1.jpg  \n",
            " extracting: sketches/M2-011-01-sz1.jpg  \n",
            "  inflating: sketches/M2-012-01-sz1.jpg  \n",
            "  inflating: sketches/M2-013-01-sz1.jpg  \n",
            "  inflating: sketches/M2-014-01-sz1.jpg  \n",
            " extracting: sketches/M2-015-01-sz1.jpg  \n",
            "  inflating: sketches/M2-016-01-sz1.jpg  \n",
            " extracting: sketches/M2-017-01-sz1.jpg  \n",
            "  inflating: sketches/M2-018-01-sz1.jpg  \n",
            "  inflating: sketches/M2-019-01-sz1.jpg  \n",
            "  inflating: sketches/M2-021-01-sz1.jpg  \n",
            "  inflating: sketches/M2-022-01-sz1.jpg  \n",
            "  inflating: sketches/M2-023-01-sz1.jpg  \n",
            "  inflating: sketches/M2-024-01-sz1.jpg  \n",
            " extracting: sketches/M2-025-01-sz1.jpg  \n",
            "  inflating: sketches/M2-026-01-sz1.jpg  \n",
            "  inflating: sketches/M2-027-01-sz1.jpg  \n",
            "  inflating: sketches/M2-028-01-sz1.jpg  \n",
            "  inflating: sketches/M2-029-01-sz1.jpg  \n",
            " extracting: sketches/M2-030-01-sz1.jpg  \n",
            "  inflating: sketches/M2-031-01-sz1.jpg  \n",
            " extracting: sketches/M2-032-01-sz1.jpg  \n",
            " extracting: sketches/M2-033-01-sz1.jpg  \n",
            "  inflating: sketches/M2-034-01-sz1.jpg  \n",
            " extracting: sketches/M2-035-01-sz1.jpg  \n",
            "  inflating: sketches/M2-036-01-sz1.jpg  \n",
            " extracting: sketches/M2-037-01-sz1.jpg  \n",
            "  inflating: sketches/M2-038-01-sz1.jpg  \n",
            " extracting: sketches/M2-039-01-sz1.jpg  \n",
            " extracting: sketches/M2-040-01-sz1.jpg  \n",
            "  inflating: sketches/M2-041-01-sz1.jpg  \n",
            "  inflating: sketches/M2-042-01-sz1.jpg  \n",
            "  inflating: sketches/M2-043-01-sz1.jpg  \n",
            " extracting: sketches/M2-044-01-sz1.jpg  \n",
            "  inflating: sketches/M2-045-01-sz1.jpg  \n",
            "  inflating: sketches/M2-046-01-sz1.jpg  \n",
            " extracting: sketches/M2-047-01-sz1.jpg  \n",
            " extracting: sketches/M2-048-01-sz1.jpg  \n",
            "  inflating: sketches/M2-049-01-sz1.jpg  \n",
            "  inflating: sketches/M2-050-01-sz1.jpg  \n",
            " extracting: sketches/M2-051-01-sz1.jpg  \n",
            " extracting: sketches/M2-052-01-sz1.jpg  \n",
            " extracting: sketches/M2-053-01-sz1.jpg  \n",
            " extracting: sketches/M2-054-01-sz1.jpg  \n",
            " extracting: sketches/M2-055-01-sz1.jpg  \n",
            "  inflating: sketches/M2-056-01-sz1.jpg  \n",
            " extracting: sketches/M2-057-01-sz1.jpg  \n",
            " extracting: sketches/M2-058-01-sz1.jpg  \n",
            "  inflating: sketches/M2-059-01-sz1.jpg  \n",
            "  inflating: sketches/M2-060-01-sz1.jpg  \n",
            "  inflating: sketches/M2-061-01-sz1.jpg  \n",
            " extracting: sketches/M2-062-01-sz1.jpg  \n",
            "Archive:  photos.zip\n",
            "  inflating: photos/f-005-01.jpg     \n",
            "  inflating: photos/f-006-01.jpg     \n",
            "  inflating: photos/f-007-01.jpg     \n",
            "  inflating: photos/f-008-01.jpg     \n",
            "  inflating: photos/f-009-01.jpg     \n",
            "  inflating: photos/f-010-01.jpg     \n",
            "  inflating: photos/f-011-01.jpg     \n",
            "  inflating: photos/f-012-01.jpg     \n",
            "  inflating: photos/f-013-01.jpg     \n",
            "  inflating: photos/f-014-01.jpg     \n",
            "  inflating: photos/f-015-01.jpg     \n",
            "  inflating: photos/f-016-01.jpg     \n",
            "  inflating: photos/f-017-01.jpg     \n",
            "  inflating: photos/f-018-01.jpg     \n",
            "  inflating: photos/f-019-01.jpg     \n",
            "  inflating: photos/f-020-01.jpg     \n",
            "  inflating: photos/f-021-01.jpg     \n",
            "  inflating: photos/f-022-01.jpg     \n",
            "  inflating: photos/f-023-01.jpg     \n",
            "  inflating: photos/f-024-01.jpg     \n",
            "  inflating: photos/f-025-01.jpg     \n",
            "  inflating: photos/f-026-01.jpg     \n",
            "  inflating: photos/f-027-01.jpg     \n",
            "  inflating: photos/f-028-01.jpg     \n",
            "  inflating: photos/f-029-01.jpg     \n",
            "  inflating: photos/f-030-01.jpg     \n",
            "  inflating: photos/f-031-01.jpg     \n",
            "  inflating: photos/f-032-01.jpg     \n",
            "  inflating: photos/f-033-01.jpg     \n",
            "  inflating: photos/f-034-01.jpg     \n",
            "  inflating: photos/f-035-01.jpg     \n",
            "  inflating: photos/f-036-01.jpg     \n",
            "  inflating: photos/f-037-01.jpg     \n",
            "  inflating: photos/f-038-01.jpg     \n",
            "  inflating: photos/m-008-01.jpg     \n",
            "  inflating: photos/m-009-01.jpg     \n",
            "  inflating: photos/m-010-01.jpg     \n",
            "  inflating: photos/m-011-01.jpg     \n",
            "  inflating: photos/m-012-01.jpg     \n",
            "  inflating: photos/m-013-01.jpg     \n",
            "  inflating: photos/m-014-01.jpg     \n",
            "  inflating: photos/m-015-01.jpg     \n",
            "  inflating: photos/m-016-01.jpg     \n",
            "  inflating: photos/m-017-01.jpg     \n",
            "  inflating: photos/m-018-01.jpg     \n",
            "  inflating: photos/m-019-01.jpg     \n",
            "  inflating: photos/m-021-01.jpg     \n",
            "  inflating: photos/m-022-01.jpg     \n",
            "  inflating: photos/m-023-01.jpg     \n",
            "  inflating: photos/m-024-01.jpg     \n",
            "  inflating: photos/m-025-01.jpg     \n",
            "  inflating: photos/m-026-01.jpg     \n",
            "  inflating: photos/m-027-01.jpg     \n",
            "  inflating: photos/m-028-01.jpg     \n",
            "  inflating: photos/m-029-01.jpg     \n",
            "  inflating: photos/m-030-01.jpg     \n",
            "  inflating: photos/m-031-01.jpg     \n",
            "  inflating: photos/m-032-01.jpg     \n",
            "  inflating: photos/m-033-01.jpg     \n",
            "  inflating: photos/m-034-01.jpg     \n",
            "  inflating: photos/m-035-01.jpg     \n",
            "  inflating: photos/m-036-01.jpg     \n",
            "  inflating: photos/m-037-01.jpg     \n",
            "  inflating: photos/m-038-01.jpg     \n",
            "  inflating: photos/m-039-01.jpg     \n",
            "  inflating: photos/m-040-01.jpg     \n",
            "  inflating: photos/m-041-01.jpg     \n",
            "  inflating: photos/m-042-01.jpg     \n",
            "  inflating: photos/m-043-01.jpg     \n",
            "  inflating: photos/m-044-01.jpg     \n",
            "  inflating: photos/m-045-01.jpg     \n",
            "  inflating: photos/m-046-01.jpg     \n",
            "  inflating: photos/m-047-01.jpg     \n",
            "  inflating: photos/m-048-01.jpg     \n",
            "  inflating: photos/m-049-01.jpg     \n",
            "  inflating: photos/m-050-01.jpg     \n",
            "  inflating: photos/m-051-01.jpg     \n",
            "  inflating: photos/m-052-01.jpg     \n",
            "  inflating: photos/m-053-01.jpg     \n",
            "  inflating: photos/m-054-01.jpg     \n",
            "  inflating: photos/m-055-01.jpg     \n",
            "  inflating: photos/m-056-01.jpg     \n",
            "  inflating: photos/m-057-01.jpg     \n",
            "  inflating: photos/m-058-01.jpg     \n",
            "  inflating: photos/m-059-01.jpg     \n",
            "  inflating: photos/m-060-01.jpg     \n",
            "  inflating: photos/m-061-01.jpg     \n",
            "  inflating: photos/m-062-01.jpg     \n"
          ],
          "name": "stdout"
        }
      ]
    },
    {
      "cell_type": "code",
      "metadata": {
        "id": "aW87iXxVdoy8",
        "colab_type": "code",
        "outputId": "757a11f0-01a5-48b7-e923-050ba0b6f36d",
        "colab": {
          "base_uri": "https://localhost:8080/",
          "height": 34
        }
      },
      "source": [
        "!chmod +x ./sketches/convert.sh\n",
        "!cd sketches && ./convert.sh"
      ],
      "execution_count": 0,
      "outputs": [
        {
          "output_type": "stream",
          "text": [
            "mv: 'convert.sh' and 'convert.sh' are the same file\n"
          ],
          "name": "stdout"
        }
      ]
    },
    {
      "cell_type": "code",
      "metadata": {
        "id": "6S1Qsdv920HK",
        "colab_type": "code",
        "outputId": "6c1aae8f-1a2c-493c-e742-82255f45d47f",
        "colab": {
          "base_uri": "https://localhost:8080/",
          "height": 323
        }
      },
      "source": [
        "!sudo pip install git+https://www.github.com/keras-team/keras-contrib.git"
      ],
      "execution_count": 0,
      "outputs": [
        {
          "output_type": "stream",
          "text": [
            "Collecting git+https://www.github.com/keras-team/keras-contrib.git\n",
            "  Cloning https://www.github.com/keras-team/keras-contrib.git to /tmp/pip-req-build-8v7zr1l6\n",
            "  Running command git clone -q https://www.github.com/keras-team/keras-contrib.git /tmp/pip-req-build-8v7zr1l6\n",
            "Requirement already satisfied: keras in /usr/local/lib/python3.6/dist-packages (from keras-contrib==2.0.8) (2.2.4)\n",
            "Requirement already satisfied: six>=1.9.0 in /usr/local/lib/python3.6/dist-packages (from keras->keras-contrib==2.0.8) (1.12.0)\n",
            "Requirement already satisfied: keras-preprocessing>=1.0.5 in /usr/local/lib/python3.6/dist-packages (from keras->keras-contrib==2.0.8) (1.1.0)\n",
            "Requirement already satisfied: keras-applications>=1.0.6 in /usr/local/lib/python3.6/dist-packages (from keras->keras-contrib==2.0.8) (1.0.8)\n",
            "Requirement already satisfied: scipy>=0.14 in /usr/local/lib/python3.6/dist-packages (from keras->keras-contrib==2.0.8) (1.3.0)\n",
            "Requirement already satisfied: pyyaml in /usr/local/lib/python3.6/dist-packages (from keras->keras-contrib==2.0.8) (3.13)\n",
            "Requirement already satisfied: h5py in /usr/local/lib/python3.6/dist-packages (from keras->keras-contrib==2.0.8) (2.8.0)\n",
            "Requirement already satisfied: numpy>=1.9.1 in /usr/local/lib/python3.6/dist-packages (from keras->keras-contrib==2.0.8) (1.16.4)\n",
            "Building wheels for collected packages: keras-contrib\n",
            "  Building wheel for keras-contrib (setup.py) ... \u001b[?25l\u001b[?25hdone\n",
            "  Created wheel for keras-contrib: filename=keras_contrib-2.0.8-cp36-none-any.whl size=101066 sha256=1557ca9ec3bf47b7a7449cf340fe46397aa77b25c58b715058c4fa8cf034ce84\n",
            "  Stored in directory: /tmp/pip-ephem-wheel-cache-c0hmynyp/wheels/11/27/c8/4ed56de7b55f4f61244e2dc6ef3cdbaff2692527a2ce6502ba\n",
            "Successfully built keras-contrib\n",
            "Installing collected packages: keras-contrib\n",
            "Successfully installed keras-contrib-2.0.8\n"
          ],
          "name": "stdout"
        }
      ]
    },
    {
      "cell_type": "code",
      "metadata": {
        "id": "4eU3Y-2PVlhw",
        "colab_type": "code",
        "outputId": "ce8c44cb-d117-4cfc-e736-ae95c8616d30",
        "colab": {
          "base_uri": "https://localhost:8080/",
          "height": 34
        }
      },
      "source": [
        "from __future__ import division\n",
        "\n",
        "import tensorflow as tf\n",
        "\n",
        "import keras\n",
        "from keras.optimizers import Adam\n",
        "from keras.models import Model\n",
        "from keras.layers import Input, Conv2D, UpSampling2D, Concatenate\n",
        "from keras.layers import Activation, AveragePooling2D, MaxPooling2D\n",
        "from keras.layers.advanced_activations import LeakyReLU\n",
        "from keras_contrib.layers.normalization.instancenormalization import InstanceNormalization\n",
        "\n",
        "import datetime\n",
        "import numpy as np\n",
        "from glob import glob\n",
        "from PIL import Image"
      ],
      "execution_count": 0,
      "outputs": [
        {
          "output_type": "stream",
          "text": [
            "Using TensorFlow backend.\n"
          ],
          "name": "stderr"
        }
      ]
    },
    {
      "cell_type": "code",
      "metadata": {
        "id": "Eup6IsQjfglE",
        "colab_type": "code",
        "colab": {}
      },
      "source": [
        "# Data Loader\n",
        "class DataLoader:\n",
        "  \n",
        "  def __init__(self, img_res=(128, 128)):\n",
        "    self.img_res = img_res\n",
        "\n",
        "  \n",
        "  # load the entire dataset\n",
        "  def load_batch(self, batch_size=1):\n",
        "    path_photos = glob('photos/*')\n",
        "    \n",
        "    self.n_batches = int(len(path_photos) / batch_size)\n",
        "    \n",
        "    path_photos = np.random.choice(path_photos, self.n_batches*batch_size, replace=False)\n",
        "    \n",
        "    for i in range(self.n_batches):\n",
        "      batch_photos = path_photos[i*batch_size: (i+1)*batch_size]\n",
        "\n",
        "      def get_sketch_path(x):\n",
        "        parts = x.split('/')\n",
        "        imagename = parts[-1]\n",
        "        fname, extension = imagename.split('.')\n",
        "        fname = fname + '-sz1'\n",
        "        imagename = '.'.join([fname, extension])\n",
        "\n",
        "        a, b, c, d = imagename.split('-')\n",
        "        a = a + '2'\n",
        "        imagename = '-'.join([a, b, c, d])\n",
        "        return '/'.join(['sketches', imagename])\n",
        "\n",
        "      batch_sketches = list(map(get_sketch_path, batch_photos))\n",
        "      \n",
        "      imgs_A, imgs_B = [], []\n",
        "      \n",
        "      for imgA, imgB in zip(batch_photos, batch_sketches):\n",
        "        imgA = self.get_image(imgA)\n",
        "        imgB = self.get_image(imgB)\n",
        "       \n",
        "        \n",
        "        # Flip half the images horizontally in training set\n",
        "        if np.random.random() > 0.5:\n",
        "          imgA = np.fliplr(imgA)\n",
        "          imgB = np.fliplr(imgB)\n",
        "          \n",
        "        imgs_A.append(imgA)\n",
        "        imgs_B.append(imgB)\n",
        "        \n",
        "      yield (np.array(imgs_A), np.array(imgs_B))\n",
        "        \n",
        "        \n",
        "  def get_image(self, path):\n",
        "    image = Image.open('./' + path).convert('RGB')\n",
        "    image = image.resize(self.img_res)\n",
        "    image = np.array(image)\n",
        "    image = image / 127.5 - 1\n",
        "    return image"
      ],
      "execution_count": 0,
      "outputs": []
    },
    {
      "cell_type": "code",
      "metadata": {
        "id": "zrZlvc-pdHim",
        "colab_type": "code",
        "colab": {}
      },
      "source": [
        "class CycleGAN():\n",
        "  \n",
        "  def __init__(self, rows, cols):\n",
        "    # Input shapes\n",
        "    self.img_rows = rows\n",
        "    self.img_cols = cols\n",
        "    self.channels = 3\n",
        "    self.img_shape = (self.img_rows, self.img_cols, self.channels)\n",
        "    \n",
        "    # Save network history\n",
        "    self.history = {\n",
        "        'd_loss': [],\n",
        "        'g_loss': []\n",
        "    }\n",
        "    \n",
        "    # Configure the data loader\n",
        "    self.data_loader = DataLoader(img_res=(rows, cols))\n",
        "    \n",
        "    # The output shape of the discriminator (PatchGAN)\n",
        "    patch = 8\n",
        "    self.disc_patch = (patch, patch, 1)\n",
        "    \n",
        "    # Number of filters in the first layer of Generator and Discriminator\n",
        "    self.gf = 32\n",
        "    self.df = 64\n",
        "    \n",
        "    # The weight each loss should get in the combined loss function\n",
        "    self.lambda_valid = 1.0                   # Discriminator loss\n",
        "    self.lambda_cycle = 10.0                  # Cycle-consistency loss \n",
        "    self.lambda_id = 0.1 * self.lambda_cycle  # Identity loss\n",
        "    \n",
        "    # Optimizer\n",
        "    optimizer = Adam(0.0002, 0.5)\n",
        "    \n",
        "    # Build and compile the discriminators\n",
        "    self.d_A = self.build_discriminator()    # Discriminator for domain A\n",
        "    self.d_B = self.build_discriminator()    # Discriminator for domain B\n",
        "    \n",
        "    self.d_A.compile(loss='mse', optimizer=optimizer, metrics=['accuracy'])\n",
        "    self.d_B.compile(loss='mse', optimizer=optimizer, metrics=['accuracy'])\n",
        "\n",
        "    # -------------------------------------    \n",
        "    # Computational graph of the generators\n",
        "    # -------------------------------------\n",
        "    \n",
        "    # Build the generators\n",
        "    self.g_AB = self.build_generator()       # Generator for domain A -> B\n",
        "    self.g_BA = self.build_generator()       # Generator for domain B -> A\n",
        "    \n",
        "    # Input images from both domains\n",
        "    img_A = Input(shape=self.img_shape)\n",
        "    img_B = Input(shape=self.img_shape)\n",
        "    \n",
        "    # Translate images to the other domain\n",
        "    fake_B = self.g_AB(img_A)\n",
        "    fake_A = self.g_BA(img_B)    \n",
        "    \n",
        "    # Translate images back to original domain\n",
        "    reconstructed_A = self.g_BA(fake_B)\n",
        "    reconstructed_B = self.g_AB(fake_A)\n",
        "    \n",
        "    # Identity mapping of the images\n",
        "    img_id_A = self.g_BA(img_A)\n",
        "    img_id_B = self.g_AB(img_B)\n",
        "    \n",
        "    # In the combined model, train only the generators\n",
        "    self.d_A.trainable = False\n",
        "    self.d_B.trainable = False\n",
        "    \n",
        "    # Use discriminators to check validity of images\n",
        "    valid_A = self.d_A(fake_A)\n",
        "    valid_B = self.d_B(fake_B)\n",
        "    \n",
        "    # Create combined model with discriminator and generator\n",
        "    self.combined = Model(\n",
        "      inputs  = [img_A, img_B],\n",
        "      outputs = [valid_A, valid_B, reconstructed_A, reconstructed_B, img_id_A, img_id_B]\n",
        "    )\n",
        "    \n",
        "    self.combined.compile(\n",
        "        loss = ['mse', 'mse', 'mae', 'mae', 'mae', 'mae'],\n",
        "        loss_weights = [\n",
        "            self.lambda_valid, self.lambda_valid,\n",
        "            self.lambda_cycle, self.lambda_cycle,\n",
        "            self.lambda_id, self.lambda_id\n",
        "        ],\n",
        "        optimizer = optimizer\n",
        "    )\n",
        "    \n",
        "    \n",
        "    \n",
        "  def build_discriminator(self):\n",
        "    '''Build a discriminator network'''\n",
        "    \n",
        "    def d_layer(layer_input, filters, normalization=True, add_maxpool=True):\n",
        "      '''Discriminator layer'''\n",
        "      d = Conv2D(filters, kernel_size=3, dilation_rate=2, padding='same')(layer_input)\n",
        "      d = LeakyReLU(alpha=0.2)(d)\n",
        "      if normalization:\n",
        "        d = InstanceNormalization()(d)\n",
        "      if add_maxpool:\n",
        "        d = MaxPooling2D(pool_size=(2, 2))(d)\n",
        "      return d\n",
        "      \n",
        "    \n",
        "    img = Input(shape=self.img_shape)\n",
        "    \n",
        "    d1 = d_layer(img, self.df, normalization=False)\n",
        "    d2 = d_layer(d1, self.df*2)\n",
        "    d3 = d_layer(d2, self.df*4)\n",
        "    d4 = d_layer(d3, self.df*8)\n",
        "    d5 = d_layer(d4, self.df*8)\n",
        "    \n",
        "    validity = Conv2D(1, kernel_size=3, strides=1, padding='same')(d5)\n",
        "    \n",
        "    return Model(img, validity)\n",
        "  \n",
        "  \n",
        "  def build_generator(self):\n",
        "    '''U-Net Generator\n",
        "    Ref: https://lmb.informatik.uni-freiburg.de/people/ronneber/u-net/\n",
        "    '''\n",
        "    \n",
        "    def conv2d(layer_input, filters):\n",
        "      '''Layers used during downsampling'''\n",
        "      d = Conv2D(filters, kernel_size=4, strides=2, padding='same')(layer_input)\n",
        "      d = LeakyReLU(alpha=0.2)(d)\n",
        "      d = InstanceNormalization()(d)\n",
        "      return d\n",
        "    \n",
        "    def deconv2d(layer_input, skip_input, filters):\n",
        "      '''Layers used during upsampling'''\n",
        "      u = UpSampling2D(size=2)(layer_input)\n",
        "      u = Conv2D(filters, kernel_size=4, strides=1, padding='same', activation='relu')(u)\n",
        "      u = InstanceNormalization()(u)\n",
        "      u = Concatenate()([u, skip_input])\n",
        "      return u\n",
        "    \n",
        "    \n",
        "    # Image input\n",
        "    d0 = Input(shape=self.img_shape)\n",
        "    \n",
        "    # Downsampling\n",
        "    d1 = conv2d(d0, self.gf)\n",
        "    d2 = conv2d(d1, self.gf*2)\n",
        "    d3 = conv2d(d2, self.gf*4)\n",
        "    d4 = conv2d(d3, self.gf*8)\n",
        "    \n",
        "    # Upsampling\n",
        "    u1 = deconv2d(d4, d3, self.gf*4)\n",
        "    u2 = deconv2d(u1, d2, self.gf*2)\n",
        "    u3 = deconv2d(u2, d1, self.gf)\n",
        "    \n",
        "    u4 = UpSampling2D(size=2)(u3)\n",
        "    output_img = Conv2D(\n",
        "        self.channels,\n",
        "        kernel_size=4,\n",
        "        strides=1,\n",
        "        padding='same',\n",
        "        activation='tanh')(u4)\n",
        "    \n",
        "    return Model(d0, output_img)\n",
        "    \n",
        "  \n",
        "  def train(self, epochs=20, training_mode=0, batch_size=1, sample_interval=5):\n",
        "    '''Train the network.\n",
        "    \n",
        "    Parameters:\n",
        "      epochs (int): Number of epochs to train the network for\n",
        "      training_mode (int):\n",
        "        0 - train both the discriminator and generator on each batch\n",
        "        1 - train only the discriminator\n",
        "        2 - train only the generator\n",
        "    '''\n",
        "    \n",
        "    start_time = datetime.datetime.now()\n",
        "    \n",
        "    # Adversarial loss and ground truths\n",
        "    valid = np.ones((batch_size,) + self.disc_patch)\n",
        "    fake = np.zeros((batch_size,) + self.disc_patch)\n",
        "    \n",
        "    for epoch in range(epochs):\n",
        "      for batch_idx, (imgs_A, imgs_B) in enumerate(self.data_loader.load_batch(batch_size)):\n",
        "        # ---------------------\n",
        "        # Train discriminators\n",
        "        # ---------------------\n",
        "        \n",
        "        # Translate images to opposite domain\n",
        "        fake_B = self.g_AB.predict(imgs_A)\n",
        "        fake_A = self.g_BA.predict(imgs_B)\n",
        "        \n",
        "        # Train the discriminators with real and fake images\n",
        "        dA_loss_real = self.d_A.train_on_batch(imgs_A, valid)\n",
        "        dA_loss_fake = self.d_A.train_on_batch(fake_A, fake)\n",
        "        dA_loss = 0.5 * np.add(dA_loss_real, dA_loss_fake)\n",
        "        \n",
        "        dB_loss_real = self.d_B.train_on_batch(imgs_B, valid)\n",
        "        dB_loss_fake = self.d_B.train_on_batch(fake_B, fake)\n",
        "        dB_loss = 0.5 * np.add(dB_loss_real, dB_loss_fake)\n",
        "        \n",
        "        # Total discriminator loss\n",
        "        d_loss = 0.5 * np.add(dA_loss, dB_loss)\n",
        "        self.history['d_loss'].append(d_loss)\n",
        "        \n",
        "        \n",
        "        # ---------------------------------\n",
        "        # Train generators (combined model)\n",
        "        # ---------------------------------\n",
        "        \n",
        "        g_loss = self.combined.train_on_batch(\n",
        "          [imgs_A, imgs_B],\n",
        "          [valid, valid, imgs_A, imgs_B, imgs_A, imgs_B]\n",
        "        )\n",
        "        self.history['g_loss'].append(g_loss)\n",
        "        \n",
        "        elapsed_time = datetime.datetime.now() - start_time\n",
        "        \n",
        "        # Plot progress\n",
        "      print (\"[Epoch %d/%d] [Batch %d/%d] [D loss: %f, acc: %3d%%] [G loss: %05f, adv: %05f, recon: %05f, id: %05f] time: %s \" \\\n",
        "                                                                        % ( epoch+1, epochs,\n",
        "                                                                            batch_idx, self.data_loader.n_batches,\n",
        "                                                                            d_loss[0], 100*d_loss[1],\n",
        "                                                                            g_loss[0],\n",
        "                                                                            np.mean(g_loss[1:3]),\n",
        "                                                                            np.mean(g_loss[3:5]),\n",
        "                                                                            np.mean(g_loss[5:6]),\n",
        "                                                                            elapsed_time))\n",
        "        \n",
        "        \n",
        "        "
      ],
      "execution_count": 0,
      "outputs": []
    },
    {
      "cell_type": "code",
      "metadata": {
        "id": "DPdMnpFTfffU",
        "colab_type": "code",
        "outputId": "4361abb5-6aaa-45f1-dc0d-35f783b99259",
        "colab": {
          "base_uri": "https://localhost:8080/",
          "height": 258
        }
      },
      "source": [
        "net = CycleGAN(256, 256)"
      ],
      "execution_count": 0,
      "outputs": [
        {
          "output_type": "stream",
          "text": [
            "WARNING: Logging before flag parsing goes to stderr.\n",
            "W0802 13:55:57.093538 140411003864960 deprecation_wrapper.py:119] From /usr/local/lib/python3.6/dist-packages/keras/backend/tensorflow_backend.py:74: The name tf.get_default_graph is deprecated. Please use tf.compat.v1.get_default_graph instead.\n",
            "\n",
            "W0802 13:55:57.095372 140411003864960 deprecation_wrapper.py:119] From /usr/local/lib/python3.6/dist-packages/keras/backend/tensorflow_backend.py:517: The name tf.placeholder is deprecated. Please use tf.compat.v1.placeholder instead.\n",
            "\n",
            "W0802 13:55:57.102157 140411003864960 deprecation_wrapper.py:119] From /usr/local/lib/python3.6/dist-packages/keras/backend/tensorflow_backend.py:4138: The name tf.random_uniform is deprecated. Please use tf.random.uniform instead.\n",
            "\n",
            "W0802 13:55:57.145508 140411003864960 deprecation_wrapper.py:119] From /usr/local/lib/python3.6/dist-packages/keras/backend/tensorflow_backend.py:3976: The name tf.nn.max_pool is deprecated. Please use tf.nn.max_pool2d instead.\n",
            "\n",
            "W0802 13:55:57.671891 140411003864960 deprecation_wrapper.py:119] From /usr/local/lib/python3.6/dist-packages/keras/optimizers.py:790: The name tf.train.Optimizer is deprecated. Please use tf.compat.v1.train.Optimizer instead.\n",
            "\n",
            "W0802 13:55:57.852957 140411003864960 deprecation_wrapper.py:119] From /usr/local/lib/python3.6/dist-packages/keras/backend/tensorflow_backend.py:2018: The name tf.image.resize_nearest_neighbor is deprecated. Please use tf.compat.v1.image.resize_nearest_neighbor instead.\n",
            "\n"
          ],
          "name": "stderr"
        }
      ]
    },
    {
      "cell_type": "code",
      "metadata": {
        "id": "DYdpBKUc_sk1",
        "colab_type": "code",
        "outputId": "8657a048-97a4-45e9-d24e-a5e7f5e92984",
        "colab": {
          "base_uri": "https://localhost:8080/",
          "height": 904
        }
      },
      "source": [
        "net.d_A.summary()"
      ],
      "execution_count": 0,
      "outputs": [
        {
          "output_type": "stream",
          "text": [
            "_________________________________________________________________\n",
            "Layer (type)                 Output Shape              Param #   \n",
            "=================================================================\n",
            "input_1 (InputLayer)         (None, 256, 256, 3)       0         \n",
            "_________________________________________________________________\n",
            "conv2d_1 (Conv2D)            (None, 256, 256, 64)      1792      \n",
            "_________________________________________________________________\n",
            "leaky_re_lu_1 (LeakyReLU)    (None, 256, 256, 64)      0         \n",
            "_________________________________________________________________\n",
            "max_pooling2d_1 (MaxPooling2 (None, 128, 128, 64)      0         \n",
            "_________________________________________________________________\n",
            "conv2d_2 (Conv2D)            (None, 128, 128, 128)     73856     \n",
            "_________________________________________________________________\n",
            "leaky_re_lu_2 (LeakyReLU)    (None, 128, 128, 128)     0         \n",
            "_________________________________________________________________\n",
            "instance_normalization_1 (In (None, 128, 128, 128)     2         \n",
            "_________________________________________________________________\n",
            "max_pooling2d_2 (MaxPooling2 (None, 64, 64, 128)       0         \n",
            "_________________________________________________________________\n",
            "conv2d_3 (Conv2D)            (None, 64, 64, 256)       295168    \n",
            "_________________________________________________________________\n",
            "leaky_re_lu_3 (LeakyReLU)    (None, 64, 64, 256)       0         \n",
            "_________________________________________________________________\n",
            "instance_normalization_2 (In (None, 64, 64, 256)       2         \n",
            "_________________________________________________________________\n",
            "max_pooling2d_3 (MaxPooling2 (None, 32, 32, 256)       0         \n",
            "_________________________________________________________________\n",
            "conv2d_4 (Conv2D)            (None, 32, 32, 512)       1180160   \n",
            "_________________________________________________________________\n",
            "leaky_re_lu_4 (LeakyReLU)    (None, 32, 32, 512)       0         \n",
            "_________________________________________________________________\n",
            "instance_normalization_3 (In (None, 32, 32, 512)       2         \n",
            "_________________________________________________________________\n",
            "max_pooling2d_4 (MaxPooling2 (None, 16, 16, 512)       0         \n",
            "_________________________________________________________________\n",
            "conv2d_5 (Conv2D)            (None, 16, 16, 512)       2359808   \n",
            "_________________________________________________________________\n",
            "leaky_re_lu_5 (LeakyReLU)    (None, 16, 16, 512)       0         \n",
            "_________________________________________________________________\n",
            "instance_normalization_4 (In (None, 16, 16, 512)       2         \n",
            "_________________________________________________________________\n",
            "max_pooling2d_5 (MaxPooling2 (None, 8, 8, 512)         0         \n",
            "_________________________________________________________________\n",
            "conv2d_6 (Conv2D)            (None, 8, 8, 1)           4609      \n",
            "=================================================================\n",
            "Total params: 7,830,802\n",
            "Trainable params: 3,915,401\n",
            "Non-trainable params: 3,915,401\n",
            "_________________________________________________________________\n"
          ],
          "name": "stdout"
        },
        {
          "output_type": "stream",
          "text": [
            "/usr/local/lib/python3.6/dist-packages/keras/engine/training.py:490: UserWarning: Discrepancy between trainable weights and collected trainable weights, did you set `model.trainable` without calling `model.compile` after ?\n",
            "  'Discrepancy between trainable weights and collected trainable'\n"
          ],
          "name": "stderr"
        }
      ]
    },
    {
      "cell_type": "code",
      "metadata": {
        "id": "HSD_z_noCg2X",
        "colab_type": "code",
        "outputId": "e0e6784c-fcf6-43fa-e691-baf7a9723425",
        "colab": {
          "base_uri": "https://localhost:8080/",
          "height": 1000
        }
      },
      "source": [
        "net.g_AB.summary()"
      ],
      "execution_count": 0,
      "outputs": [
        {
          "output_type": "stream",
          "text": [
            "__________________________________________________________________________________________________\n",
            "Layer (type)                    Output Shape         Param #     Connected to                     \n",
            "==================================================================================================\n",
            "input_3 (InputLayer)            (None, 256, 256, 3)  0                                            \n",
            "__________________________________________________________________________________________________\n",
            "conv2d_13 (Conv2D)              (None, 128, 128, 32) 1568        input_3[0][0]                    \n",
            "__________________________________________________________________________________________________\n",
            "leaky_re_lu_11 (LeakyReLU)      (None, 128, 128, 32) 0           conv2d_13[0][0]                  \n",
            "__________________________________________________________________________________________________\n",
            "instance_normalization_9 (Insta (None, 128, 128, 32) 2           leaky_re_lu_11[0][0]             \n",
            "__________________________________________________________________________________________________\n",
            "conv2d_14 (Conv2D)              (None, 64, 64, 64)   32832       instance_normalization_9[0][0]   \n",
            "__________________________________________________________________________________________________\n",
            "leaky_re_lu_12 (LeakyReLU)      (None, 64, 64, 64)   0           conv2d_14[0][0]                  \n",
            "__________________________________________________________________________________________________\n",
            "instance_normalization_10 (Inst (None, 64, 64, 64)   2           leaky_re_lu_12[0][0]             \n",
            "__________________________________________________________________________________________________\n",
            "conv2d_15 (Conv2D)              (None, 32, 32, 128)  131200      instance_normalization_10[0][0]  \n",
            "__________________________________________________________________________________________________\n",
            "leaky_re_lu_13 (LeakyReLU)      (None, 32, 32, 128)  0           conv2d_15[0][0]                  \n",
            "__________________________________________________________________________________________________\n",
            "instance_normalization_11 (Inst (None, 32, 32, 128)  2           leaky_re_lu_13[0][0]             \n",
            "__________________________________________________________________________________________________\n",
            "conv2d_16 (Conv2D)              (None, 16, 16, 256)  524544      instance_normalization_11[0][0]  \n",
            "__________________________________________________________________________________________________\n",
            "leaky_re_lu_14 (LeakyReLU)      (None, 16, 16, 256)  0           conv2d_16[0][0]                  \n",
            "__________________________________________________________________________________________________\n",
            "instance_normalization_12 (Inst (None, 16, 16, 256)  2           leaky_re_lu_14[0][0]             \n",
            "__________________________________________________________________________________________________\n",
            "up_sampling2d_1 (UpSampling2D)  (None, 32, 32, 256)  0           instance_normalization_12[0][0]  \n",
            "__________________________________________________________________________________________________\n",
            "conv2d_17 (Conv2D)              (None, 32, 32, 128)  524416      up_sampling2d_1[0][0]            \n",
            "__________________________________________________________________________________________________\n",
            "instance_normalization_13 (Inst (None, 32, 32, 128)  2           conv2d_17[0][0]                  \n",
            "__________________________________________________________________________________________________\n",
            "concatenate_1 (Concatenate)     (None, 32, 32, 256)  0           instance_normalization_13[0][0]  \n",
            "                                                                 instance_normalization_11[0][0]  \n",
            "__________________________________________________________________________________________________\n",
            "up_sampling2d_2 (UpSampling2D)  (None, 64, 64, 256)  0           concatenate_1[0][0]              \n",
            "__________________________________________________________________________________________________\n",
            "conv2d_18 (Conv2D)              (None, 64, 64, 64)   262208      up_sampling2d_2[0][0]            \n",
            "__________________________________________________________________________________________________\n",
            "instance_normalization_14 (Inst (None, 64, 64, 64)   2           conv2d_18[0][0]                  \n",
            "__________________________________________________________________________________________________\n",
            "concatenate_2 (Concatenate)     (None, 64, 64, 128)  0           instance_normalization_14[0][0]  \n",
            "                                                                 instance_normalization_10[0][0]  \n",
            "__________________________________________________________________________________________________\n",
            "up_sampling2d_3 (UpSampling2D)  (None, 128, 128, 128 0           concatenate_2[0][0]              \n",
            "__________________________________________________________________________________________________\n",
            "conv2d_19 (Conv2D)              (None, 128, 128, 32) 65568       up_sampling2d_3[0][0]            \n",
            "__________________________________________________________________________________________________\n",
            "instance_normalization_15 (Inst (None, 128, 128, 32) 2           conv2d_19[0][0]                  \n",
            "__________________________________________________________________________________________________\n",
            "concatenate_3 (Concatenate)     (None, 128, 128, 64) 0           instance_normalization_15[0][0]  \n",
            "                                                                 instance_normalization_9[0][0]   \n",
            "__________________________________________________________________________________________________\n",
            "up_sampling2d_4 (UpSampling2D)  (None, 256, 256, 64) 0           concatenate_3[0][0]              \n",
            "__________________________________________________________________________________________________\n",
            "conv2d_20 (Conv2D)              (None, 256, 256, 3)  3075        up_sampling2d_4[0][0]            \n",
            "==================================================================================================\n",
            "Total params: 1,545,425\n",
            "Trainable params: 1,545,425\n",
            "Non-trainable params: 0\n",
            "__________________________________________________________________________________________________\n"
          ],
          "name": "stdout"
        }
      ]
    },
    {
      "cell_type": "code",
      "metadata": {
        "id": "fmhQhyWZfltN",
        "colab_type": "code",
        "outputId": "f539e788-7fe9-45d5-e6e5-17ae03318f26",
        "colab": {
          "base_uri": "https://localhost:8080/",
          "height": 1000
        }
      },
      "source": [
        "net.train(epochs=50, batch_size=1)"
      ],
      "execution_count": 0,
      "outputs": [
        {
          "output_type": "stream",
          "text": [
            "W0802 13:56:18.563230 140411003864960 deprecation_wrapper.py:119] From /usr/local/lib/python3.6/dist-packages/keras/backend/tensorflow_backend.py:2741: The name tf.Session is deprecated. Please use tf.compat.v1.Session instead.\n",
            "\n",
            "W0802 13:56:18.567268 140411003864960 deprecation_wrapper.py:119] From /usr/local/lib/python3.6/dist-packages/keras/backend/tensorflow_backend.py:174: The name tf.get_default_session is deprecated. Please use tf.compat.v1.get_default_session instead.\n",
            "\n",
            "/usr/local/lib/python3.6/dist-packages/keras/engine/training.py:490: UserWarning: Discrepancy between trainable weights and collected trainable weights, did you set `model.trainable` without calling `model.compile` after ?\n",
            "  'Discrepancy between trainable weights and collected trainable'\n",
            "/usr/local/lib/python3.6/dist-packages/keras/engine/training.py:490: UserWarning: Discrepancy between trainable weights and collected trainable weights, did you set `model.trainable` without calling `model.compile` after ?\n",
            "  'Discrepancy between trainable weights and collected trainable'\n",
            "/usr/local/lib/python3.6/dist-packages/keras/engine/training.py:490: UserWarning: Discrepancy between trainable weights and collected trainable weights, did you set `model.trainable` without calling `model.compile` after ?\n",
            "  'Discrepancy between trainable weights and collected trainable'\n",
            "/usr/local/lib/python3.6/dist-packages/keras/engine/training.py:490: UserWarning: Discrepancy between trainable weights and collected trainable weights, did you set `model.trainable` without calling `model.compile` after ?\n",
            "  'Discrepancy between trainable weights and collected trainable'\n"
          ],
          "name": "stderr"
        },
        {
          "output_type": "stream",
          "text": [
            "[Epoch 1/50] [Batch 87/88] [D loss: 0.240374, acc:  55%] [G loss: 5.439964, adv: 0.851326, recon: 0.170027, id: 0.181168] time: 0:01:20.519164 \n",
            "[Epoch 2/50] [Batch 87/88] [D loss: 0.228637, acc:  55%] [G loss: 5.047783, adv: 0.918700, recon: 0.143117, id: 0.164755] time: 0:02:09.321631 \n",
            "[Epoch 3/50] [Batch 87/88] [D loss: 0.322249, acc:  50%] [G loss: 5.574513, adv: 0.989443, recon: 0.162672, id: 0.196248] time: 0:02:58.185063 \n",
            "[Epoch 4/50] [Batch 87/88] [D loss: 0.298380, acc:  47%] [G loss: 5.125427, adv: 1.006590, recon: 0.140968, id: 0.169566] time: 0:03:47.040517 \n",
            "[Epoch 5/50] [Batch 87/88] [D loss: 0.276735, acc:  48%] [G loss: 3.941083, adv: 0.888033, recon: 0.098776, id: 0.117990] time: 0:04:35.860186 \n",
            "[Epoch 6/50] [Batch 87/88] [D loss: 0.184664, acc:  71%] [G loss: 4.067535, adv: 1.031495, recon: 0.091588, id: 0.107241] time: 0:05:24.642511 \n",
            "[Epoch 7/50] [Batch 87/88] [D loss: 0.100761, acc:  87%] [G loss: 3.753671, adv: 0.862110, recon: 0.092457, id: 0.095184] time: 0:06:13.453660 \n",
            "[Epoch 8/50] [Batch 87/88] [D loss: 0.212397, acc:  61%] [G loss: 3.659276, adv: 0.681352, recon: 0.104559, id: 0.121458] time: 0:07:02.326406 \n",
            "[Epoch 9/50] [Batch 87/88] [D loss: 0.307335, acc:  51%] [G loss: 2.919187, adv: 0.650846, recon: 0.073772, id: 0.085789] time: 0:07:51.250475 \n",
            "[Epoch 10/50] [Batch 87/88] [D loss: 0.153882, acc:  75%] [G loss: 3.606871, adv: 0.753045, recon: 0.092409, id: 0.119129] time: 0:08:40.129131 \n",
            "[Epoch 11/50] [Batch 87/88] [D loss: 0.126042, acc:  86%] [G loss: 2.853114, adv: 0.743508, recon: 0.062786, id: 0.057784] time: 0:09:28.957413 \n",
            "[Epoch 12/50] [Batch 87/88] [D loss: 0.145527, acc:  75%] [G loss: 3.830995, adv: 1.059265, recon: 0.078997, id: 0.072826] time: 0:10:17.723069 \n",
            "[Epoch 13/50] [Batch 87/88] [D loss: 0.155792, acc:  79%] [G loss: 3.358440, adv: 0.669104, recon: 0.092992, id: 0.078893] time: 0:11:06.628056 \n",
            "[Epoch 14/50] [Batch 87/88] [D loss: 0.088876, acc:  91%] [G loss: 3.012353, adv: 0.763600, recon: 0.067908, id: 0.066615] time: 0:11:55.468968 \n",
            "[Epoch 15/50] [Batch 87/88] [D loss: 0.141052, acc:  85%] [G loss: 3.759534, adv: 1.054715, recon: 0.075147, id: 0.081192] time: 0:12:44.301965 \n",
            "[Epoch 16/50] [Batch 87/88] [D loss: 0.182020, acc:  75%] [G loss: 3.649481, adv: 0.926008, recon: 0.081885, id: 0.105590] time: 0:13:33.074166 \n",
            "[Epoch 17/50] [Batch 87/88] [D loss: 0.115099, acc:  87%] [G loss: 3.006449, adv: 0.749518, recon: 0.070023, id: 0.056651] time: 0:14:21.875017 \n",
            "[Epoch 18/50] [Batch 87/88] [D loss: 0.082072, acc:  90%] [G loss: 4.242312, adv: 0.926094, recon: 0.107548, id: 0.150746] time: 0:15:10.736710 \n",
            "[Epoch 19/50] [Batch 87/88] [D loss: 0.020695, acc:  99%] [G loss: 3.623638, adv: 0.994864, recon: 0.074346, id: 0.067106] time: 0:15:59.615904 \n",
            "[Epoch 20/50] [Batch 87/88] [D loss: 0.190406, acc:  68%] [G loss: 3.361538, adv: 0.927396, recon: 0.070304, id: 0.054452] time: 0:16:48.440972 \n",
            "[Epoch 21/50] [Batch 87/88] [D loss: 0.221037, acc:  68%] [G loss: 3.397191, adv: 0.740926, recon: 0.089396, id: 0.070180] time: 0:17:37.174450 \n",
            "[Epoch 22/50] [Batch 87/88] [D loss: 0.036587, acc:  99%] [G loss: 4.005294, adv: 1.012351, recon: 0.089842, id: 0.096781] time: 0:18:25.968857 \n",
            "[Epoch 23/50] [Batch 87/88] [D loss: 0.191432, acc:  71%] [G loss: 3.921286, adv: 1.116468, recon: 0.076405, id: 0.093241] time: 0:19:14.904384 \n",
            "[Epoch 24/50] [Batch 87/88] [D loss: 0.148131, acc:  80%] [G loss: 4.449860, adv: 1.434520, recon: 0.073464, id: 0.062915] time: 0:20:03.640128 \n",
            "[Epoch 25/50] [Batch 87/88] [D loss: 0.044342, acc: 100%] [G loss: 4.417656, adv: 1.204264, recon: 0.090908, id: 0.108557] time: 0:20:52.333196 \n",
            "[Epoch 26/50] [Batch 87/88] [D loss: 0.182646, acc:  69%] [G loss: 2.841106, adv: 0.836582, recon: 0.054050, id: 0.043549] time: 0:21:41.118216 \n",
            "[Epoch 27/50] [Batch 87/88] [D loss: 0.322893, acc:  58%] [G loss: 3.843043, adv: 1.205998, recon: 0.066292, id: 0.060046] time: 0:22:29.991331 \n",
            "[Epoch 28/50] [Batch 87/88] [D loss: 0.082641, acc:  91%] [G loss: 3.721698, adv: 1.032389, recon: 0.076372, id: 0.066800] time: 0:23:18.888405 \n",
            "[Epoch 29/50] [Batch 87/88] [D loss: 0.127387, acc:  88%] [G loss: 3.522274, adv: 1.162678, recon: 0.055099, id: 0.055683] time: 0:24:07.827266 \n",
            "[Epoch 30/50] [Batch 87/88] [D loss: 0.079613, acc:  91%] [G loss: 3.954257, adv: 1.239827, recon: 0.068644, id: 0.059504] time: 0:24:56.692047 \n",
            "[Epoch 31/50] [Batch 87/88] [D loss: 0.038799, acc: 100%] [G loss: 4.194428, adv: 1.110350, recon: 0.091385, id: 0.074913] time: 0:25:45.507213 \n",
            "[Epoch 32/50] [Batch 87/88] [D loss: 0.162072, acc:  78%] [G loss: 4.712308, adv: 1.692028, recon: 0.060802, id: 0.053896] time: 0:26:34.429525 \n",
            "[Epoch 33/50] [Batch 87/88] [D loss: 0.055349, acc:  98%] [G loss: 4.541674, adv: 1.386800, recon: 0.080521, id: 0.072644] time: 0:27:23.251123 \n",
            "[Epoch 34/50] [Batch 87/88] [D loss: 0.113512, acc:  82%] [G loss: 3.686971, adv: 1.093456, recon: 0.069356, id: 0.052886] time: 0:28:12.151611 \n",
            "[Epoch 35/50] [Batch 87/88] [D loss: 0.071020, acc:  94%] [G loss: 3.623672, adv: 1.075660, recon: 0.067926, id: 0.056195] time: 0:29:01.035334 \n",
            "[Epoch 36/50] [Batch 87/88] [D loss: 0.040373, acc: 100%] [G loss: 3.442440, adv: 1.010285, recon: 0.065708, id: 0.050835] time: 0:29:49.872053 \n",
            "[Epoch 37/50] [Batch 87/88] [D loss: 0.088034, acc:  91%] [G loss: 3.323034, adv: 0.831497, recon: 0.074778, id: 0.064051] time: 0:30:38.692502 \n",
            "[Epoch 38/50] [Batch 87/88] [D loss: 0.185972, acc:  66%] [G loss: 4.010555, adv: 0.861908, recon: 0.107904, id: 0.066663] time: 0:31:27.566990 \n",
            "[Epoch 39/50] [Batch 87/88] [D loss: 0.184374, acc:  64%] [G loss: 3.764895, adv: 1.013531, recon: 0.080330, id: 0.073534] time: 0:32:16.421103 \n",
            "[Epoch 40/50] [Batch 87/88] [D loss: 0.023537, acc: 100%] [G loss: 3.425739, adv: 1.067241, recon: 0.060024, id: 0.042142] time: 0:33:05.226063 \n",
            "[Epoch 41/50] [Batch 87/88] [D loss: 0.026316, acc: 100%] [G loss: 3.325782, adv: 0.929065, recon: 0.067657, id: 0.058234] time: 0:33:54.016188 \n",
            "[Epoch 42/50] [Batch 87/88] [D loss: 0.029316, acc: 100%] [G loss: 3.632819, adv: 1.187288, recon: 0.058703, id: 0.042525] time: 0:34:42.620059 \n",
            "[Epoch 43/50] [Batch 87/88] [D loss: 0.037411, acc: 100%] [G loss: 3.594394, adv: 0.970755, recon: 0.075736, id: 0.054540] time: 0:35:31.436405 \n",
            "[Epoch 44/50] [Batch 87/88] [D loss: 0.035476, acc: 100%] [G loss: 3.943825, adv: 1.183154, recon: 0.073864, id: 0.058556] time: 0:36:20.174421 \n",
            "[Epoch 45/50] [Batch 87/88] [D loss: 0.020436, acc: 100%] [G loss: 3.603149, adv: 0.994638, recon: 0.074477, id: 0.080668] time: 0:37:08.863391 \n",
            "[Epoch 46/50] [Batch 87/88] [D loss: 0.020168, acc: 100%] [G loss: 3.638568, adv: 1.073703, recon: 0.069100, id: 0.058244] time: 0:37:57.805840 \n",
            "[Epoch 47/50] [Batch 87/88] [D loss: 0.023030, acc: 100%] [G loss: 3.505378, adv: 1.023699, recon: 0.068019, id: 0.047342] time: 0:38:46.710394 \n",
            "[Epoch 48/50] [Batch 87/88] [D loss: 0.069995, acc:  97%] [G loss: 3.602630, adv: 0.944878, recon: 0.079290, id: 0.044355] time: 0:39:35.614255 \n",
            "[Epoch 49/50] [Batch 87/88] [D loss: 0.009784, acc: 100%] [G loss: 3.385708, adv: 1.000899, recon: 0.064331, id: 0.051273] time: 0:40:24.525538 \n",
            "[Epoch 50/50] [Batch 87/88] [D loss: 0.040209, acc: 100%] [G loss: 3.596054, adv: 1.016106, recon: 0.072202, id: 0.065495] time: 0:41:13.405129 \n"
          ],
          "name": "stdout"
        }
      ]
    },
    {
      "cell_type": "code",
      "metadata": {
        "id": "VchUSdxQ4diZ",
        "colab_type": "code",
        "colab": {}
      },
      "source": [
        "import matplotlib.pyplot as plt\n",
        "\n",
        "test_dl = DataLoader(img_res=(256, 256))\n",
        "batch_gen = test_dl.load_batch(1)\n"
      ],
      "execution_count": 0,
      "outputs": []
    },
    {
      "cell_type": "code",
      "metadata": {
        "id": "bq7krYTGgnl4",
        "colab_type": "code",
        "outputId": "5a1f30ae-17c2-44e3-9744-a7a7b6665bd7",
        "colab": {
          "base_uri": "https://localhost:8080/",
          "height": 269
        }
      },
      "source": [
        "x = next(batch_gen)\n",
        "\n",
        "apple = x[0]\n",
        "orange = x[1]\n",
        "\n",
        "fake_orange = net.g_AB.predict(apple)\n",
        "fake_apple = net.g_BA.predict(orange)\n",
        "\n",
        "recon_apple = net.g_BA.predict(fake_orange)\n",
        "recon_orange = net.g_AB.predict(fake_apple)\n",
        "\n",
        "gen_imgs = [\n",
        "    (apple[0] + 1) / 2,\n",
        "    (fake_orange[0] + 1) / 2,\n",
        "    (recon_apple[0] + 1) / 2,\n",
        "    (orange[0] + 1) / 2,\n",
        "    (fake_apple[0] + 1) / 2,\n",
        "    (recon_orange[0] + 1) / 2\n",
        "]\n",
        "\n",
        "r, c = 2, 3\n",
        "fig, axs = plt.subplots(r, c)\n",
        "cnt = 0\n",
        "for i in range(r):\n",
        "  for j in range(c):\n",
        "    axs[i, j].imshow(gen_imgs[cnt])\n",
        "    axs[i, j].axis('off')\n",
        "    cnt += 1"
      ],
      "execution_count": 0,
      "outputs": [
        {
          "output_type": "display_data",
          "data": {
            "image/png": "[encoded data removed]",
            "text/plain": [
              "<Figure size 432x288 with 6 Axes>"
            ]
          },
          "metadata": {
            "tags": []
          }
        }
      ]
    },
    {
      "cell_type": "code",
      "metadata": {
        "id": "9CK1UW6PlGbU",
        "colab_type": "code",
        "outputId": "8e41136a-95f6-43d5-deef-7d3b4e2598fd",
        "colab": {
          "base_uri": "https://localhost:8080/",
          "height": 269
        }
      },
      "source": [
        "loss_d = list(map(lambda x: x[0], net.history['d_loss']))[10:]\n",
        "acc_d = list(map(lambda x: x[1], net.history['d_loss']))[10:]\n",
        "\n",
        "\n",
        "plt.plot(range(len(loss_d)), loss_d)\n",
        "plt.plot(range(len(acc_d)), acc_d)\n",
        "plt.show()"
      ],
      "execution_count": 0,
      "outputs": [
        {
          "output_type": "display_data",
          "data": {
            "image/png": "[encoded data removed]",
            "text/plain": [
              "<Figure size 432x288 with 1 Axes>"
            ]
          },
          "metadata": {
            "tags": []
          }
        }
      ]
    },
    {
      "cell_type": "code",
      "metadata": {
        "id": "ntLfOLvGt3Lw",
        "colab_type": "code",
        "outputId": "ea67fa35-120c-4ae9-dbb9-6adf20760e69",
        "colab": {
          "base_uri": "https://localhost:8080/",
          "height": 34
        }
      },
      "source": [
        "net.g_BA.layers[-1].output"
      ],
      "execution_count": 0,
      "outputs": [
        {
          "output_type": "execute_result",
          "data": {
            "text/plain": [
              "<tf.Tensor 'conv2d_98/Tanh:0' shape=(?, 256, 256, 3) dtype=float32>"
            ]
          },
          "metadata": {
            "tags": []
          },
          "execution_count": 123
        }
      ]
    },
    {
      "cell_type": "code",
      "metadata": {
        "id": "m8SgK706uHlG",
        "colab_type": "code",
        "outputId": "688273e5-5a6c-4465-b1d6-f77e2f6b61f8",
        "colab": {
          "base_uri": "https://localhost:8080/",
          "height": 564
        }
      },
      "source": [
        "net.d_A.summary()"
      ],
      "execution_count": 0,
      "outputs": [
        {
          "output_type": "stream",
          "text": [
            "_________________________________________________________________\n",
            "Layer (type)                 Output Shape              Param #   \n",
            "=================================================================\n",
            "input_39 (InputLayer)        (None, 256, 256, 3)       0         \n",
            "_________________________________________________________________\n",
            "conv2d_240 (Conv2D)          (None, 256, 256, 64)      1792      \n",
            "_________________________________________________________________\n",
            "activation_114 (Activation)  (None, 256, 256, 64)      0         \n",
            "_________________________________________________________________\n",
            "conv2d_243 (Conv2D)          (None, 256, 256, 128)     73856     \n",
            "_________________________________________________________________\n",
            "activation_117 (Activation)  (None, 256, 256, 128)     0         \n",
            "_________________________________________________________________\n",
            "conv2d_246 (Conv2D)          (None, 256, 256, 256)     295168    \n",
            "_________________________________________________________________\n",
            "activation_120 (Activation)  (None, 256, 256, 256)     0         \n",
            "_________________________________________________________________\n",
            "conv2d_249 (Conv2D)          (None, 256, 256, 512)     1180160   \n",
            "_________________________________________________________________\n",
            "activation_123 (Activation)  (None, 256, 256, 512)     0         \n",
            "_________________________________________________________________\n",
            "conv2d_250 (Conv2D)          (None, 256, 256, 1)       8193      \n",
            "_________________________________________________________________\n",
            "average_pooling2d_8 (Average (None, 16, 16, 1)         0         \n",
            "=================================================================\n",
            "Total params: 3,118,338\n",
            "Trainable params: 1,559,169\n",
            "Non-trainable params: 1,559,169\n",
            "_________________________________________________________________\n"
          ],
          "name": "stdout"
        },
        {
          "output_type": "stream",
          "text": [
            "/usr/local/lib/python3.6/dist-packages/keras/engine/training.py:490: UserWarning: Discrepancy between trainable weights and collected trainable weights, did you set `model.trainable` without calling `model.compile` after ?\n",
            "  'Discrepancy between trainable weights and collected trainable'\n"
          ],
          "name": "stderr"
        }
      ]
    },
    {
      "cell_type": "code",
      "metadata": {
        "id": "o2mku-u1x-ee",
        "colab_type": "code",
        "colab": {}
      },
      "source": [
        "net.d_A.save_weights('weights_d_A.hd5')"
      ],
      "execution_count": 0,
      "outputs": []
    },
    {
      "cell_type": "code",
      "metadata": {
        "id": "PTyZAlVCyDx-",
        "colab_type": "code",
        "colab": {}
      },
      "source": [
        "net.d_B.save_weights('weights_d_B.hd5')"
      ],
      "execution_count": 0,
      "outputs": []
    },
    {
      "cell_type": "code",
      "metadata": {
        "id": "wFPJG_65yKB7",
        "colab_type": "code",
        "colab": {}
      },
      "source": [
        "net.g_AB.save_weights('weights_g_AB.hd5')"
      ],
      "execution_count": 0,
      "outputs": []
    },
    {
      "cell_type": "code",
      "metadata": {
        "id": "ac8GXybEyO_4",
        "colab_type": "code",
        "colab": {}
      },
      "source": [
        "net.g_BA.save_weights('weights_g_BA.hd5')"
      ],
      "execution_count": 0,
      "outputs": []
    }
  ]
}